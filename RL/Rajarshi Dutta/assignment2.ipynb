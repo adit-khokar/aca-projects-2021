{
 "cells": [
  {
   "cell_type": "code",
   "execution_count": 2,
   "metadata": {},
   "outputs": [],
   "source": [
    "import numpy as np\n",
    "import csv\n",
    "import matplotlib.pyplot as plt\n",
    "import os\n",
    "import pandas as pd\n",
    "import scipy as py\n",
    "from sklearn.preprocessing import StandardScaler"
   ]
  },
  {
   "cell_type": "code",
   "execution_count": 17,
   "metadata": {},
   "outputs": [],
   "source": [
    "filename='data.csv'\n",
    "df=pd.read_csv(filename)\n",
    "ob=StandardScaler()# scaling the data because of differnt variance"
   ]
  },
  {
   "cell_type": "code",
   "execution_count": 18,
   "metadata": {},
   "outputs": [],
   "source": [
    "def read_file(filename):\n",
    "    df=pd.read_csv(filename)\n",
    "    #declaring the number of independent variables\n",
    "    X1, X2, X3, X4, X5=[],[],[],[],[]\n",
    "    #declaring the independent variable\n",
    "    Y=[]\n",
    "    for rows in df.iterrows():\n",
    "        X1.append(rows[1][0])\n",
    "        X2.append(rows[1][1])\n",
    "        X3.append(rows[1][2])\n",
    "        X4.append(rows[1][3])\n",
    "        X5.append(rows[1][4])\n",
    "        Y.append(rows[1][5])\n",
    "    indvar=[np.array(X1),np.array(X2),np.array(X3),np.array(X4),np.array(X5)]\n",
    "    indvar=ob.fit_transform(indvar)\n",
    "    dvar=np.array(Y)\n",
    "    l=[indvar,dvar]\n",
    "    return l"
   ]
  },
  {
   "cell_type": "code",
   "execution_count": 19,
   "metadata": {},
   "outputs": [
    {
     "output_type": "stream",
     "name": "stdout",
     "text": [
      "[[ 1.99227562  1.99509096  1.9968768  ...  1.99991776  1.99994744\n   1.99996693]\n [-0.55507174 -0.54423135 -0.53548642 ... -0.4988748  -0.49910374\n  -0.49929124]\n [-0.5541012  -0.54345736 -0.53486893 ... -0.50859452 -0.50687425\n  -0.50545484]\n [-0.32803941 -0.36317767 -0.39104042 ... -0.48382334 -0.48707076\n  -0.48974662]\n [-0.55506326 -0.54422458 -0.53548103 ... -0.5086251  -0.50689869\n  -0.50547423]] [126.201 125.201 125.951 ... 106.604 106.224 104.204]\n"
     ]
    },
    {
     "output_type": "execute_result",
     "data": {
      "text/plain": [
       "1503"
      ]
     },
     "metadata": {},
     "execution_count": 19
    }
   ],
   "source": [
    "\n",
    "X,y=read_file(filename)\n",
    "print(X,y)\n",
    "X[0].shape[0]"
   ]
  },
  {
   "cell_type": "code",
   "execution_count": 20,
   "metadata": {},
   "outputs": [],
   "source": [
    "def mse(X,Y,w):\n",
    "    temp=0\n",
    "    for i in range(X[0].shape[0]):\n",
    "        pred=(w[0] + w[1]*X[0][i] + w[2]*X[1][i]+ w[3]*X[2][i]+ w[4]*X[3][i]+ w[5]*X[4][i])\n",
    "        true=Y[i]\n",
    "        temp=temp + ((pred-true)**2)\n",
    "    return (temp/(X[0].shape[0])) \n",
    "def predsr(X,i,w):\n",
    "    return (w[0] + w[1]*X[0][i] + w[2]*X[1][i]+ w[3]*X[2][i]+ w[4]*X[3][i]+ w[5]*X[4][i])"
   ]
  },
  {
   "cell_type": "code",
   "execution_count": 21,
   "metadata": {},
   "outputs": [],
   "source": [
    "def gradient_des(X,Y,lr):\n",
    "    #print('Training Multiple Linear Regression')\n",
    "    max_train=100\n",
    "    rows=X[0].shape[0]\n",
    "    conv_flag=False\n",
    "    w=[0,0,0,0,0,0]\n",
    "    error=mse(X,Y,w)\n",
    "    i=0\n",
    "    \n",
    "    while not conv_flag:\n",
    "        gr0=1.0/rows * sum([(predsr(X,i,w)-Y[i])])\n",
    "        gr1=1.0/rows * sum([(predsr(X,i,w)-Y[i])*X[0][i] for i in range(rows)])\n",
    "        gr2=1.0/rows * sum([(predsr(X,i,w)-Y[i])*X[1][i] for i in range(rows)])\n",
    "        gr3=1.0/rows * sum([(predsr(X,i,w)-Y[i])*X[2][i] for i in range(rows)])\n",
    "        gr4=1.0/rows * sum([(predsr(X,i,w)-Y[i])*X[3][i] for i in range(rows)])\n",
    "        gr5=1.0/rows * sum([(predsr(X,i,w)-Y[i])*X[4][i] for i in range(rows)])\n",
    "        \n",
    "        w[0]=w[0]-lr*gr0\n",
    "        w[1]=w[1]-lr*gr1\n",
    "        w[2]=w[2]-lr*gr2\n",
    "        w[3]=w[3]-lr*gr3\n",
    "        w[4]=w[4]-lr*gr4\n",
    "        w[5]=w[5]-lr*gr5                   \n",
    "                           \n",
    "        c_error=mse(X,Y,w)\n",
    "        error=c_error\n",
    "        if i%10==0:\n",
    "            print(c_error)\n",
    "        i=i+1\n",
    "        if i==max_train:\n",
    "            conv_flag=True\n",
    "            print('stopped')\n",
    "        \n",
    "    return w \n",
    "def predict(w, X):\n",
    "    predictions=[]\n",
    "    if len(X)>1:\n",
    "        for d in X:\n",
    "            predictions.append(w[0] + w[1]*d[0]+ w[2]*d[1]+w[3]*d[2]+w[4]*d[3]+w[5]*d[4])\n",
    "        return predictions        "
   ]
  },
  {
   "cell_type": "code",
   "execution_count": 24,
   "metadata": {},
   "outputs": [
    {
     "output_type": "stream",
     "name": "stdout",
     "text": [
      "14117.018334426613\n",
      "5109.066434949389\n",
      "1868.768911349615\n",
      "703.1908125530356\n",
      "283.88839914043194\n",
      "133.05908821800642\n",
      "78.7874123832799\n",
      "59.257441056847846\n",
      "52.223589228981396\n",
      "49.683019689154605\n",
      "stopped\n"
     ]
    },
    {
     "output_type": "execute_result",
     "data": {
      "text/plain": [
       "[0.014127578867167104,\n",
       " 49.64095275304667,\n",
       " -12.860862980704395,\n",
       " -13.44193531358807,\n",
       " -9.887637307368372,\n",
       " -13.450517151385805]"
      ]
     },
     "metadata": {},
     "execution_count": 24
    }
   ],
   "source": [
    "coeff=gradient_des(X,y,0.01)\n",
    "coeff"
   ]
  },
  {
   "cell_type": "code",
   "execution_count": null,
   "metadata": {},
   "outputs": [],
   "source": [
    "#optimal weights"
   ]
  }
 ],
 "metadata": {
  "kernelspec": {
   "name": "python387jvsc74a57bd01baa965d5efe3ac65b79dfc60c0d706280b1da80fedb7760faf2759126c4f253",
   "display_name": "Python 3.8.7 64-bit"
  },
  "language_info": {
   "codemirror_mode": {
    "name": "ipython",
    "version": 3
   },
   "file_extension": ".py",
   "mimetype": "text/x-python",
   "name": "python",
   "nbconvert_exporter": "python",
   "pygments_lexer": "ipython3",
   "version": "3.8.7"
  },
  "metadata": {
   "interpreter": {
    "hash": "1baa965d5efe3ac65b79dfc60c0d706280b1da80fedb7760faf2759126c4f253"
   }
  }
 },
 "nbformat": 4,
 "nbformat_minor": 4
}